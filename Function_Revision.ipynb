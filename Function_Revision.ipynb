{
  "nbformat": 4,
  "nbformat_minor": 0,
  "metadata": {
    "colab": {
      "provenance": [],
      "include_colab_link": true
    },
    "kernelspec": {
      "name": "python3",
      "display_name": "Python 3"
    },
    "language_info": {
      "name": "python"
    }
  },
  "cells": [
    {
      "cell_type": "markdown",
      "metadata": {
        "id": "view-in-github",
        "colab_type": "text"
      },
      "source": [
        "<a href=\"https://colab.research.google.com/github/codemaster45x/Nitro-Generator/blob/main/Function_Revision.ipynb\" target=\"_parent\"><img src=\"https://colab.research.google.com/assets/colab-badge.svg\" alt=\"Open In Colab\"/></a>"
      ]
    },
    {
      "cell_type": "code",
      "execution_count": null,
      "metadata": {
        "colab": {
          "base_uri": "https://localhost:8080/"
        },
        "id": "rQkDi4sdFNZ7",
        "outputId": "b82a1b3f-de21-4884-ac48-756ff81288f4"
      },
      "outputs": [
        {
          "output_type": "execute_result",
          "data": {
            "text/plain": [
              "15"
            ]
          },
          "metadata": {},
          "execution_count": 2
        }
      ],
      "source": [
        "def addition(b,a=7):\n",
        "  return a+b\n",
        "addition(8)"
      ]
    },
    {
      "cell_type": "code",
      "source": [
        "# Uknwn number if arguments use * and a variable\n",
        "def unknown(*many_arguments):\n",
        "  return many_arguments\n",
        "unknown(\"BRIAN\",\"PUL\",\"DAVID\")\n",
        "# MORE THAN ON KRYWORD ARGUMENT UDE TWO ASTERICS (**)"
      ],
      "metadata": {
        "colab": {
          "base_uri": "https://localhost:8080/"
        },
        "id": "z-JRZZlYG_kM",
        "outputId": "33ffad51-b052-4704-dcf1-18bb760e8160"
      },
      "execution_count": null,
      "outputs": [
        {
          "output_type": "execute_result",
          "data": {
            "text/plain": [
              "('BRIAN', 'PUL', 'DAVID')"
            ]
          },
          "metadata": {},
          "execution_count": 3
        }
      ]
    },
    {
      "cell_type": "code",
      "source": [
        "\n",
        "# You can return more than one value in a function\n",
        "def statistics_summary(numbers):\n",
        "  if type(numbers)==list:\n",
        "    return sum(numbers), max(numbers),min(numbers)\n",
        "  else:\n",
        "    raise TypeError(\"Expects a list\")\n",
        "sum_num,max_num,min_num=statistics_summary([4,6,7])\n",
        "sum_num"
      ],
      "metadata": {
        "colab": {
          "base_uri": "https://localhost:8080/"
        },
        "id": "-Yq97kI2IZES",
        "outputId": "5da6c87a-c24e-4b33-bd76-be9d00f9e6fd"
      },
      "execution_count": null,
      "outputs": [
        {
          "output_type": "execute_result",
          "data": {
            "text/plain": [
              "17"
            ]
          },
          "metadata": {},
          "execution_count": 8
        }
      ]
    },
    {
      "cell_type": "code",
      "source": [
        "\n",
        "# You can return more than one value in a function\n",
        "def no_retun(numbers):\n",
        "  b=4\n",
        "  c=6\n",
        "print(no_retun([7]))"
      ],
      "metadata": {
        "colab": {
          "base_uri": "https://localhost:8080/"
        },
        "id": "d0X3pzPZJsNa",
        "outputId": "3ebe373a-a892-4c35-9457-dda3be97db04"
      },
      "execution_count": null,
      "outputs": [
        {
          "output_type": "stream",
          "name": "stdout",
          "text": [
            "None\n"
          ]
        }
      ]
    },
    {
      "cell_type": "code",
      "source": [
        "def function(value=True):\n",
        "  return value\n",
        "function(False)\n"
      ],
      "metadata": {
        "colab": {
          "base_uri": "https://localhost:8080/"
        },
        "id": "xKWTbvSkLPiL",
        "outputId": "9a73b6b7-8aae-4d80-a190-d69b45a10630"
      },
      "execution_count": null,
      "outputs": [
        {
          "output_type": "execute_result",
          "data": {
            "text/plain": [
              "False"
            ]
          },
          "metadata": {},
          "execution_count": 17
        }
      ]
    },
    {
      "cell_type": "code",
      "source": [
        "def sum_all(a,b,c):\n",
        "  return a+b+c\n",
        "sum_all(2,7,8)\n",
        "\n",
        "sum_all(b=7,c=8,a=2)"
      ],
      "metadata": {
        "colab": {
          "base_uri": "https://localhost:8080/"
        },
        "id": "e1PVk71iPrii",
        "outputId": "88790163-1ddb-4c8d-9776-0e1b5f52fbbf"
      },
      "execution_count": null,
      "outputs": [
        {
          "output_type": "execute_result",
          "data": {
            "text/plain": [
              "17"
            ]
          },
          "metadata": {},
          "execution_count": 21
        }
      ]
    },
    {
      "cell_type": "code",
      "source": [
        "def sum_all(a,b,c):\n",
        "  return a+b+c\n",
        "sum_all(2,7,8)\n",
        "sum_all(4,a=3,b=7)"
      ],
      "metadata": {
        "colab": {
          "base_uri": "https://localhost:8080/",
          "height": 211
        },
        "id": "wNtAAa0HRD_p",
        "outputId": "ae45d921-205e-42ea-d5fc-1eea0698e2ee"
      },
      "execution_count": null,
      "outputs": [
        {
          "output_type": "error",
          "ename": "TypeError",
          "evalue": "ignored",
          "traceback": [
            "\u001b[0;31m---------------------------------------------------------------------------\u001b[0m",
            "\u001b[0;31mTypeError\u001b[0m                                 Traceback (most recent call last)",
            "\u001b[0;32m<ipython-input-27-424c057e1fa6>\u001b[0m in \u001b[0;36m<cell line: 5>\u001b[0;34m()\u001b[0m\n\u001b[1;32m      3\u001b[0m \u001b[0msum_all\u001b[0m\u001b[0;34m(\u001b[0m\u001b[0;36m2\u001b[0m\u001b[0;34m,\u001b[0m\u001b[0;36m7\u001b[0m\u001b[0;34m,\u001b[0m\u001b[0;36m8\u001b[0m\u001b[0;34m)\u001b[0m\u001b[0;34m\u001b[0m\u001b[0;34m\u001b[0m\u001b[0m\n\u001b[1;32m      4\u001b[0m \u001b[0;34m\u001b[0m\u001b[0m\n\u001b[0;32m----> 5\u001b[0;31m \u001b[0msum_all\u001b[0m\u001b[0;34m(\u001b[0m\u001b[0;36m4\u001b[0m\u001b[0;34m,\u001b[0m\u001b[0ma\u001b[0m\u001b[0;34m=\u001b[0m\u001b[0;36m3\u001b[0m\u001b[0;34m,\u001b[0m\u001b[0mb\u001b[0m\u001b[0;34m=\u001b[0m\u001b[0;36m7\u001b[0m\u001b[0;34m)\u001b[0m\u001b[0;34m\u001b[0m\u001b[0;34m\u001b[0m\u001b[0m\n\u001b[0m",
            "\u001b[0;31mTypeError\u001b[0m: sum_all() got multiple values for argument 'a'"
          ]
        }
      ]
    },
    {
      "cell_type": "markdown",
      "source": [
        "# Scope of a variable\n",
        "Global variable _ can  be accessed anywahere\n",
        "Local variable\n"
      ],
      "metadata": {
        "id": "Ht4-hJOuWSB9"
      }
    },
    {
      "cell_type": "code",
      "source": [
        "def sum_all(a,b,c):\n",
        "  # local varibale\n",
        "  start=7\n",
        "  return start+a+b+c\n",
        "sum_all(2,7,8)\n",
        "sum_all(4,a=3,b=7)\n",
        "\n",
        "def sum_all_new(a,b,c):\n",
        "  start=9\n",
        "  # local varibale\n",
        "  return start+a+b+c\n",
        "sum_all(2,7,8)\n",
        "sum_all(4,a=3,b=7)"
      ],
      "metadata": {
        "id": "eI0BaMb5VAZJ"
      },
      "execution_count": null,
      "outputs": []
    },
    {
      "cell_type": "code",
      "source": [
        "# Stop is a global variable\n",
        "stop=6\n",
        "def sum_all_stop(a,b,c):\n",
        "  # local varibale\n",
        "  stop=7\n",
        "  return stop+a+b+c\n",
        "print(sum_all_stop(2,5,6))\n",
        "def sum_all_stop2(a,b,c):\n",
        "  # local varibale\n",
        "  stop=7\n",
        "  return stop+a+b+c\n",
        "sum_all_stop2(2,5,6)"
      ],
      "metadata": {
        "colab": {
          "base_uri": "https://localhost:8080/"
        },
        "id": "DSeektI6VpYo",
        "outputId": "7714fb6b-9839-49d7-f67a-b411dd77c52a"
      },
      "execution_count": null,
      "outputs": [
        {
          "output_type": "stream",
          "name": "stdout",
          "text": [
            "20\n"
          ]
        },
        {
          "output_type": "execute_result",
          "data": {
            "text/plain": [
              "20"
            ]
          },
          "metadata": {},
          "execution_count": 33
        }
      ]
    },
    {
      "cell_type": "code",
      "source": [
        "# This function has a variable with\n",
        "#case 1 local\n",
        "def f():\n",
        "    s = \"Me too.\"\n",
        "    print(s)\n",
        "# case 2 global\n",
        "s = \"I love Geeksforgeeks\"\n",
        "f()\n",
        "print(s)\n",
        "s"
      ],
      "metadata": {
        "id": "rUJqLE5QUsXa",
        "colab": {
          "base_uri": "https://localhost:8080/",
          "height": 70
        },
        "outputId": "23420422-c2dc-4659-b3d7-83ee39b0c2f9"
      },
      "execution_count": null,
      "outputs": [
        {
          "output_type": "stream",
          "name": "stdout",
          "text": [
            "Me too.\n",
            "I love Geeksforgeeks\n"
          ]
        },
        {
          "output_type": "execute_result",
          "data": {
            "text/plain": [
              "'I love Geeksforgeeks'"
            ],
            "application/vnd.google.colaboratory.intrinsic+json": {
              "type": "string"
            }
          },
          "metadata": {},
          "execution_count": 36
        }
      ]
    },
    {
      "cell_type": "code",
      "source": [
        "# Global varile overides the local variable (when tyou u)\n",
        "h=\"come\"\n",
        "def f():\n",
        "    h = \"Me too.\"\n",
        "    print(h)\n",
        "f()"
      ],
      "metadata": {
        "colab": {
          "base_uri": "https://localhost:8080/"
        },
        "id": "Pwm3K0FoYNf7",
        "outputId": "defefc4c-3f45-454e-a0d5-fd9c31ac5ddf"
      },
      "execution_count": null,
      "outputs": [
        {
          "output_type": "stream",
          "name": "stdout",
          "text": [
            "Me too.\n"
          ]
        }
      ]
    },
    {
      "cell_type": "code",
      "source": [
        "def get_sum():\n",
        "  second=2\n",
        "  first+second\n",
        "  first=10\n",
        "  return first\n",
        "get_sum()"
      ],
      "metadata": {
        "colab": {
          "base_uri": "https://localhost:8080/",
          "height": 332
        },
        "id": "8vg0ACf-Qeeb",
        "outputId": "e0cc79c4-8529-4628-9bf3-785e0cd841ab"
      },
      "execution_count": null,
      "outputs": [
        {
          "output_type": "error",
          "ename": "UnboundLocalError",
          "evalue": "ignored",
          "traceback": [
            "\u001b[0;31m---------------------------------------------------------------------------\u001b[0m",
            "\u001b[0;31mUnboundLocalError\u001b[0m                         Traceback (most recent call last)",
            "\u001b[0;32m<ipython-input-51-378adff0b222>\u001b[0m in \u001b[0;36m<cell line: 6>\u001b[0;34m()\u001b[0m\n\u001b[1;32m      4\u001b[0m   \u001b[0mfirst\u001b[0m\u001b[0;34m=\u001b[0m\u001b[0;36m10\u001b[0m\u001b[0;34m\u001b[0m\u001b[0;34m\u001b[0m\u001b[0m\n\u001b[1;32m      5\u001b[0m   \u001b[0;32mreturn\u001b[0m \u001b[0mfirst\u001b[0m\u001b[0;34m\u001b[0m\u001b[0;34m\u001b[0m\u001b[0m\n\u001b[0;32m----> 6\u001b[0;31m \u001b[0mget_sum\u001b[0m\u001b[0;34m(\u001b[0m\u001b[0;34m)\u001b[0m\u001b[0;34m\u001b[0m\u001b[0;34m\u001b[0m\u001b[0m\n\u001b[0m",
            "\u001b[0;32m<ipython-input-51-378adff0b222>\u001b[0m in \u001b[0;36mget_sum\u001b[0;34m()\u001b[0m\n\u001b[1;32m      1\u001b[0m \u001b[0;32mdef\u001b[0m \u001b[0mget_sum\u001b[0m\u001b[0;34m(\u001b[0m\u001b[0;34m)\u001b[0m\u001b[0;34m:\u001b[0m\u001b[0;34m\u001b[0m\u001b[0;34m\u001b[0m\u001b[0m\n\u001b[1;32m      2\u001b[0m   \u001b[0msecond\u001b[0m\u001b[0;34m=\u001b[0m\u001b[0;36m2\u001b[0m\u001b[0;34m\u001b[0m\u001b[0;34m\u001b[0m\u001b[0m\n\u001b[0;32m----> 3\u001b[0;31m   \u001b[0mfirst\u001b[0m\u001b[0;34m+\u001b[0m\u001b[0msecond\u001b[0m\u001b[0;34m\u001b[0m\u001b[0;34m\u001b[0m\u001b[0m\n\u001b[0m\u001b[1;32m      4\u001b[0m   \u001b[0mfirst\u001b[0m\u001b[0;34m=\u001b[0m\u001b[0;36m10\u001b[0m\u001b[0;34m\u001b[0m\u001b[0;34m\u001b[0m\u001b[0m\n\u001b[1;32m      5\u001b[0m   \u001b[0;32mreturn\u001b[0m \u001b[0mfirst\u001b[0m\u001b[0;34m\u001b[0m\u001b[0;34m\u001b[0m\u001b[0m\n",
            "\u001b[0;31mUnboundLocalError\u001b[0m: local variable 'first' referenced before assignment"
          ]
        }
      ]
    }
  ]
}