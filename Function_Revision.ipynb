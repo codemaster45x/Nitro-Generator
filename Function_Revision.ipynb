{
  "nbformat": 4,
  "nbformat_minor": 0,
  "metadata": {
    "colab": {
      "provenance": [],
      "include_colab_link": true
    },
    "kernelspec": {
      "name": "python3",
      "display_name": "Python 3"
    },
    "language_info": {
      "name": "python"
    }
  },
  "cells": [
    {
      "cell_type": "markdown",
      "metadata": {
        "id": "view-in-github",
        "colab_type": "text"
      },
      "source": [
        "<a href=\"https://colab.research.google.com/github/codemaster45x/Nitro-Generator/blob/main/Function_Revision.ipynb\" target=\"_parent\"><img src=\"https://colab.research.google.com/assets/colab-badge.svg\" alt=\"Open In Colab\"/></a>"
      ]
    },
    {
      "cell_type": "code",
      "execution_count": null,
      "metadata": {
        "colab": {
          "base_uri": "https://localhost:8080/"
        },
        "id": "rQkDi4sdFNZ7",
        "outputId": "b82a1b3f-de21-4884-ac48-756ff81288f4"
      },
      "outputs": [
        {
          "output_type": "execute_result",
          "data": {
            "text/plain": [
              "15"
            ]
          },
          "metadata": {},
          "execution_count": 2
        }
      ],
      "source": [
        "def addition(b,a=7):\n",
        "  return a+b\n",
        "addition(8)"
      ]
    },
    {
      "cell_type": "code",
      "source": [
        "# Uknwn number if arguments use * and a variable\n",
        "def unknown(*many_arguments):\n",
        "  return many_arguments\n",
        "unknown(\"BRIAN\",\"PUL\",\"DAVID\")\n",
        "# MORE THAN ON KRYWORD ARGUMENT UDE TWO ASTERICS (**)"
      ],
      "metadata": {
        "colab": {
          "base_uri": "https://localhost:8080/"
        },
        "id": "z-JRZZlYG_kM",
        "outputId": "33ffad51-b052-4704-dcf1-18bb760e8160"
      },
      "execution_count": null,
      "outputs": [
        {
          "output_type": "execute_result",
          "data": {
            "text/plain": [
              "('BRIAN', 'PUL', 'DAVID')"
            ]
          },
          "metadata": {},
          "execution_count": 3
        }
      ]
    }
  ]
}